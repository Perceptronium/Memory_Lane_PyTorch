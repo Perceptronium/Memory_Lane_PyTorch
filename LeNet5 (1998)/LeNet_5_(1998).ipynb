{
  "nbformat": 4,
  "nbformat_minor": 0,
  "metadata": {
    "colab": {
      "name": "LeNet-5 (1998).ipynb",
      "provenance": [],
      "collapsed_sections": []
    },
    "kernelspec": {
      "name": "python3",
      "display_name": "Python 3"
    },
    "language_info": {
      "name": "python"
    },
    "accelerator": "GPU"
  },
  "cells": [
    {
      "cell_type": "code",
      "execution_count": 1,
      "metadata": {
        "id": "KUAxWRrTsejL"
      },
      "outputs": [],
      "source": [
        "# Importing basic libs\n",
        "import torch\n",
        "import torch.nn as nn\n",
        "from torch.nn import Module\n",
        "import torch.nn.functional as F\n",
        "from torch.utils.data import DataLoader\n",
        "import torchvision\n",
        "from torchvision import datasets, transforms\n",
        "import matplotlib.pyplot as plt\n",
        "import numpy as np"
      ]
    },
    {
      "cell_type": "code",
      "source": [
        "# User verification for device\n",
        "device = torch.device(\"cuda:0\" if torch.cuda.is_available() else \"cpu\")\n",
        "print(f'Using {device}.')"
      ],
      "metadata": {
        "colab": {
          "base_uri": "https://localhost:8080/"
        },
        "id": "lOiaWOddmQYv",
        "outputId": "f522bdc3-1b98-4e1e-9a01-e7a4116053a5"
      },
      "execution_count": 2,
      "outputs": [
        {
          "output_type": "stream",
          "name": "stdout",
          "text": [
            "Using cuda:0.\n"
          ]
        }
      ]
    },
    {
      "cell_type": "code",
      "source": [
        "# Model implementation\n",
        "class LeNet_5(Module):\n",
        "  def __init__(self):\n",
        "    \"\"\"\n",
        "      LeNet-5 (1998)\n",
        "      Input : 1x32x32\n",
        "      Output : 10x1\n",
        "    \"\"\"\n",
        "    super(LeNet_5, self).__init__()\n",
        "    self.C1 = nn.Conv2d(in_channels = 1, out_channels = 6, kernel_size = (5,5), stride = 1) # 6 x 28 x 28 output\n",
        "    self.S2 = nn.AvgPool2d(kernel_size = (2,2), stride = 2) # 6 x 14 x 14 output\n",
        "    self.C3 = nn.Conv2d(6, 16, 5) # 16 x 10 x 10 output\n",
        "    self.S4 = nn.AvgPool2d(kernel_size = (2,2), stride = 2) # 16 x 5 x 5 output\n",
        "    self.C5 = nn.Conv2d(16, 120, 5) # 1 x 1 x 120 output\n",
        "    self.F6 = nn.Linear(120, 84) # 84 x 1 output\n",
        "    self.OUT = nn.Linear(84, 10) # Changing RBF to linear layer + logsoftmax\n",
        "    self.TO_PROBS = nn.LogSoftmax(dim = 1)\n",
        "\n",
        "    self.A = 1.7159\n",
        "    self.activation = nn.Tanh() # modified tanh activation\n",
        "\n",
        "\n",
        "  def forward(self, X):\n",
        "    y = self.C1(X)\n",
        "    y = self.S2(y)\n",
        "    y = self.A * self.activation(y)\n",
        "    y = self.C3(y)\n",
        "    y = self.S4(y)\n",
        "    y = self.A * self.activation(y)\n",
        "    y = self.C5(y)\n",
        "    y = torch.flatten(y, 1)\n",
        "    y = self.A * self.activation(y)\n",
        "    y = self.F6(y)\n",
        "    y = self.A * self.activation(y)\n",
        "    logits = self.OUT(y)\n",
        "    probs = self.TO_PROBS(logits)\n",
        "    return y"
      ],
      "metadata": {
        "id": "aCx4XZA4sr6X"
      },
      "execution_count": 3,
      "outputs": []
    },
    {
      "cell_type": "code",
      "source": [
        "# Creating data formatter and loaders\n",
        "LeNet_5_format = transforms.Compose([transforms.Resize((32, 32)),\n",
        "                                     transforms.ToTensor()])\n",
        "\n",
        "training_set = datasets.MNIST(root='mnist_data', train = True, transform = LeNet_5_format, download=True)\n",
        "validation_set = datasets.MNIST(root='mnist_data', train = False, transform = LeNet_5_format)\n",
        "\n",
        "training_loader = DataLoader(training_set, batch_size = 32, shuffle = True)\n",
        "validation_loader = DataLoader(validation_set, batch_size = 5, shuffle = False)"
      ],
      "metadata": {
        "id": "3Zsl2tehpZFa"
      },
      "execution_count": 4,
      "outputs": []
    },
    {
      "cell_type": "code",
      "source": [
        "# Some sanity checks\n",
        "def viz(image):\n",
        "  image = image.numpy().transpose((1, 2, 0))\n",
        "  plt.imshow(image)\n",
        "\n",
        "for i, data in enumerate(training_loader):\n",
        "  print(\"Checking training loader : \")\n",
        "  batch, labels = data\n",
        "  print(f'Batch shape : {batch.shape}')\n",
        "  if i == 3:\n",
        "    break\n",
        "print(\"==================\")\n",
        "for i, data in enumerate(validation_loader):\n",
        "  print(\"Checking validation loader : \")\n",
        "  batch, labels = data\n",
        "  print(f'Batch shape : {batch.shape} batch labels : {labels}')\n",
        "  batch_viz = torchvision.utils.make_grid(batch)\n",
        "  viz(batch_viz)\n",
        "  if i == 3:\n",
        "    break"
      ],
      "metadata": {
        "colab": {
          "base_uri": "https://localhost:8080/",
          "height": 439
        },
        "id": "LgF-M1fdpz0o",
        "outputId": "6e629458-00d0-42c6-c34c-e44703dfeb1a"
      },
      "execution_count": 5,
      "outputs": [
        {
          "output_type": "stream",
          "name": "stdout",
          "text": [
            "Checking training loader : \n",
            "Batch shape : torch.Size([32, 1, 32, 32])\n",
            "Checking training loader : \n",
            "Batch shape : torch.Size([32, 1, 32, 32])\n",
            "Checking training loader : \n",
            "Batch shape : torch.Size([32, 1, 32, 32])\n",
            "Checking training loader : \n",
            "Batch shape : torch.Size([32, 1, 32, 32])\n",
            "==================\n",
            "Checking validation loader : \n",
            "Batch shape : torch.Size([5, 1, 32, 32]) batch labels : tensor([7, 2, 1, 0, 4])\n",
            "Checking validation loader : \n",
            "Batch shape : torch.Size([5, 1, 32, 32]) batch labels : tensor([1, 4, 9, 5, 9])\n",
            "Checking validation loader : \n",
            "Batch shape : torch.Size([5, 1, 32, 32]) batch labels : tensor([0, 6, 9, 0, 1])\n",
            "Checking validation loader : \n",
            "Batch shape : torch.Size([5, 1, 32, 32]) batch labels : tensor([5, 9, 7, 3, 4])\n"
          ]
        },
        {
          "output_type": "display_data",
          "data": {
            "image/png": "[encoded data removed]",
            "text/plain": [
              "<Figure size 432x288 with 1 Axes>"
            ]
          },
          "metadata": {
            "needs_background": "light"
          }
        }
      ]
    },
    {
      "cell_type": "code",
      "source": [
        "lenet = LeNet_5().to(device)\n",
        "criterion = nn.CrossEntropyLoss()\n",
        "lr = 0.001\n",
        "optim = torch.optim.SGD(lenet.parameters(),lr = lr)"
      ],
      "metadata": {
        "id": "d1fWYxjmbkSe"
      },
      "execution_count": 6,
      "outputs": []
    },
    {
      "cell_type": "code",
      "source": [
        "# Defining single epoch training pass\n",
        "def trainer(model, dataloader, criterion, optimizer):\n",
        "  model.train()\n",
        "  running_loss = 0.0\n",
        "\n",
        "  for X, y_T in dataloader:\n",
        "      optimizer.zero_grad()\n",
        "\n",
        "      X = X.to(device)\n",
        "      y_T = y_T.to(device)\n",
        "\n",
        "      probs = model(X)   \n",
        "      loss = criterion(probs, y_T)\n",
        "      running_loss += loss.item() * X.size(0)\n",
        "\n",
        "      loss.backward()\n",
        "      optimizer.step()\n",
        "  epoch_loss = running_loss / len(dataloader.dataset)\n",
        "  return model, optimizer, epoch_loss"
      ],
      "metadata": {
        "id": "fJsEz6LS48de"
      },
      "execution_count": 7,
      "outputs": []
    },
    {
      "cell_type": "code",
      "source": [
        "# Define single epoch testing pass\n",
        "def tester(model, dataloader, criterion, optimizer):\n",
        "  model.eval()\n",
        "  running_loss = 0.0\n",
        "\n",
        "  for X, y_T in dataloader:\n",
        "      X = X.to(device)\n",
        "      y_T = y_T.to(device)\n",
        "\n",
        "      probs = model(X)\n",
        "      loss = criterion(probs, y_T)\n",
        "      running_loss += loss.item() * X.size(0)\n",
        "  epoch_loss = running_loss / len(dataloader.dataset)\n",
        "  return model, epoch_loss"
      ],
      "metadata": {
        "id": "bkLu1SqWUZad"
      },
      "execution_count": 8,
      "outputs": []
    },
    {
      "cell_type": "code",
      "source": [
        "# Custom function to compute accuracy\n",
        "def compute_accuracy(model, dataloader):\n",
        "    correct_preds = 0 \n",
        "    n = 0\n",
        "    \n",
        "    with torch.no_grad():\n",
        "        model.eval()\n",
        "        for X, y_T in dataloader:\n",
        "\n",
        "            X = X.to(device)\n",
        "            y_T = y_T.to(device)\n",
        "\n",
        "            probs = model(X)\n",
        "            _, predictions = torch.max(probs, 1)\n",
        "\n",
        "            n += y_T.size(0)\n",
        "            correct_preds += (predictions == y_T).sum()\n",
        "\n",
        "    return correct_preds.float() / n"
      ],
      "metadata": {
        "id": "I57p68xfd3UJ"
      },
      "execution_count": 9,
      "outputs": []
    },
    {
      "cell_type": "code",
      "source": [
        "# Defining model trainer\n",
        "def training(model, training_loader, validation_loader, criterion, optimizer, epochs):\n",
        "  train_losses = []\n",
        "  train_acc =[]\n",
        "  valid_losses = []\n",
        "  valid_acc = []\n",
        "\n",
        "  for epoch in range(epochs):\n",
        "    print(f'\\nEpoch {epoch} : ')\n",
        "    print(\"===========\")\n",
        "    \n",
        "    model, optimizer, training_loss = trainer(model, training_loader, criterion, optimizer)\n",
        "    training_acc = compute_accuracy(model, training_loader)\n",
        "    train_losses.append(training_loss)\n",
        "    train_acc.append(training_acc)\n",
        "\n",
        "    with torch.no_grad():\n",
        "      model, valid_loss = tester(model, validation_loader, criterion, optimizer)\n",
        "      validation_acc = compute_accuracy(model, validation_loader)\n",
        "      valid_losses.append(valid_loss)\n",
        "      valid_acc.append(validation_acc)\n",
        "\n",
        "    print(f'Training loss : {training_loss}')\n",
        "    print(f'Training acc : {training_acc}')\n",
        "    print(f'Validation loss : {valid_loss}')\n",
        "    print(f'Validation acc : {validation_acc}')\n",
        "\n",
        "  train_losses = np.array(train_losses) \n",
        "  valid_losses = np.array(valid_losses)\n",
        "  train_acc = np.array(train_acc)\n",
        "  valid_acc = np.array(valid_acc)\n",
        "\n",
        "  fig, ax = plt.subplots(figsize = (10, 5))\n",
        "  ax.plot(train_losses, color='blue', label='Training loss')\n",
        "  ax.plot(train_acc, color='green', label='Training accuracy') \n",
        "  ax.plot(valid_losses, color='red', label='Validation loss')\n",
        "  ax.plot(valid_acc, color='black', label='Validation accuracy')\n",
        "  \n",
        "  ax.set(title=\"Loss evolution\", \n",
        "            xlabel='Epoch',\n",
        "            ylabel='Loss/Accuracy') \n",
        "  ax.legend()\n",
        "  fig.show()\n",
        "    "
      ],
      "metadata": {
        "id": "AqcuSVE_eeLb"
      },
      "execution_count": 10,
      "outputs": []
    },
    {
      "cell_type": "code",
      "source": [
        "training(lenet, training_loader, validation_loader, criterion, optim, 15)"
      ],
      "metadata": {
        "colab": {
          "base_uri": "https://localhost:8080/",
          "height": 1000
        },
        "id": "xf5xJacWAX75",
        "outputId": "a661b2a9-ebaa-4221-d214-180035f30bcf"
      },
      "execution_count": 11,
      "outputs": [
        {
          "output_type": "stream",
          "name": "stdout",
          "text": [
            "\n",
            "Epoch 0 : \n",
            "===========\n",
            "Training loss : 2.6665022141774495\n",
            "Training acc : 0.09871666878461838\n",
            "Validation loss : 2.440473958849907\n",
            "Validation acc : 0.0982000008225441\n",
            "\n",
            "Epoch 1 : \n",
            "===========\n",
            "Training loss : 2.1600451760609944\n",
            "Training acc : 0.8183833360671997\n",
            "Validation loss : 1.9071612289547921\n",
            "Validation acc : 0.819599986076355\n",
            "\n",
            "Epoch 2 : \n",
            "===========\n",
            "Training loss : 1.8149600207646688\n",
            "Training acc : 0.8411666750907898\n",
            "Validation loss : 1.7356506712436677\n",
            "Validation acc : 0.8438999652862549\n",
            "\n",
            "Epoch 3 : \n",
            "===========\n",
            "Training loss : 1.7033717555363972\n",
            "Training acc : 0.8687166571617126\n",
            "Validation loss : 1.6604275251626968\n",
            "Validation acc : 0.8740999698638916\n",
            "\n",
            "Epoch 4 : \n",
            "===========\n",
            "Training loss : 1.6459020438512166\n",
            "Training acc : 0.8801833391189575\n",
            "Validation loss : 1.6159123264551163\n",
            "Validation acc : 0.8868999481201172\n",
            "\n",
            "Epoch 5 : \n",
            "===========\n",
            "Training loss : 1.6089685336430868\n",
            "Training acc : 0.8886666893959045\n",
            "Validation loss : 1.585907732605934\n",
            "Validation acc : 0.8944000005722046\n",
            "\n",
            "Epoch 6 : \n",
            "===========\n",
            "Training loss : 1.5817925891240439\n",
            "Training acc : 0.8976666927337646\n",
            "Validation loss : 1.562425932943821\n",
            "Validation acc : 0.903499960899353\n",
            "\n",
            "Epoch 7 : \n",
            "===========\n",
            "Training loss : 1.5599856859207153\n",
            "Training acc : 0.9046000242233276\n",
            "Validation loss : 1.5421501708626748\n",
            "Validation acc : 0.9097999930381775\n",
            "\n",
            "Epoch 8 : \n",
            "===========\n",
            "Training loss : 1.5418965598424275\n",
            "Training acc : 0.9088333249092102\n",
            "Validation loss : 1.5261858283281327\n",
            "Validation acc : 0.9134999513626099\n",
            "\n",
            "Epoch 9 : \n",
            "===========\n",
            "Training loss : 1.5263822020848592\n",
            "Training acc : 0.9139666557312012\n",
            "Validation loss : 1.5122379883527757\n",
            "Validation acc : 0.9187999963760376\n",
            "\n",
            "Epoch 10 : \n",
            "===========\n",
            "Training loss : 1.5131194997151693\n",
            "Training acc : 0.9172833561897278\n",
            "Validation loss : 1.5000209007263183\n",
            "Validation acc : 0.9220999479293823\n",
            "\n",
            "Epoch 11 : \n",
            "===========\n",
            "Training loss : 1.501561672782898\n",
            "Training acc : 0.9199000000953674\n",
            "Validation loss : 1.4897344080209731\n",
            "Validation acc : 0.9248999953269958\n",
            "\n",
            "Epoch 12 : \n",
            "===========\n",
            "Training loss : 1.4914030119578043\n",
            "Training acc : 0.9237666726112366\n",
            "Validation loss : 1.4807521784305573\n",
            "Validation acc : 0.9275999665260315\n",
            "\n",
            "Epoch 13 : \n",
            "===========\n",
            "Training loss : 1.4824316169102987\n",
            "Training acc : 0.9257333278656006\n",
            "Validation loss : 1.4733167761564254\n",
            "Validation acc : 0.9296999573707581\n",
            "\n",
            "Epoch 14 : \n",
            "===========\n",
            "Training loss : 1.4745256565093994\n",
            "Training acc : 0.929016649723053\n",
            "Validation loss : 1.464776043534279\n",
            "Validation acc : 0.9322999715805054\n"
          ]
        },
        {
          "output_type": "display_data",
          "data": {
            "image/png": "[encoded data removed]",
            "text/plain": [
              "<Figure size 720x360 with 1 Axes>"
            ]
          },
          "metadata": {
            "needs_background": "light"
          }
        }
      ]
    },
    {
      "cell_type": "code",
      "source": [
        ""
      ],
      "metadata": {
        "id": "DFFFBGyZBAKP"
      },
      "execution_count": 11,
      "outputs": []
    }
  ]
}